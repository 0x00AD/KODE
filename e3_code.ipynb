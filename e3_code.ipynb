{
  "nbformat": 4,
  "nbformat_minor": 0,
  "metadata": {
    "colab": {
      "name": "e3-code.ipynb",
      "version": "0.3.2",
      "provenance": [],
      "private_outputs": true,
      "collapsed_sections": [],
      "toc_visible": true,
      "include_colab_link": true
    },
    "kernelspec": {
      "display_name": "Python 3",
      "language": "python",
      "name": "python3"
    },
    "language_info": {
      "codemirror_mode": {
        "name": "ipython",
        "version": 3
      },
      "file_extension": ".py",
      "mimetype": "text/x-python",
      "name": "python",
      "nbconvert_exporter": "python",
      "pygments_lexer": "ipython3",
      "version": "3.5.3"
    }
  },
  "cells": [
    {
      "cell_type": "markdown",
      "metadata": {
        "id": "view-in-github",
        "colab_type": "text"
      },
      "source": [
        "<a href=\"https://colab.research.google.com/github/0xfeedbac/KODE/blob/master/e3_code.ipynb\" target=\"_parent\"><img src=\"https://colab.research.google.com/assets/colab-badge.svg\" alt=\"Open In Colab\"/></a>"
      ]
    },
    {
      "cell_type": "markdown",
      "metadata": {
        "colab_type": "text",
        "id": "3wF5wszaj97Y"
      },
      "source": [
        "# MNIST and Beyond"
      ]
    },
    {
      "cell_type": "markdown",
      "metadata": {
        "colab_type": "text",
        "id": "DUNzJc4jTj6G"
      },
      "source": [
        "<table class=\"tfo-notebook-buttons\" align=\"left\">\n",
        "  <td>\n",
        "    <a target=\"_blank\" href=\"https://www.tensorflow.org/beta/tutorials/quickstart/advanced\"><img src=\"https://www.tensorflow.org/images/tf_logo_32px.png\" />View on TensorFlow.org</a>\n",
        "  </td>\n",
        "  <td>\n",
        "    <a target=\"_blank\" href=\"https://colab.research.google.com/github/tensorflow/docs/blob/r2.0rc/site/en/r2/tutorials/quickstart/advanced.ipynb\"><img src=\"https://www.tensorflow.org/images/colab_logo_32px.png\" />Run in Google Colab</a>\n",
        "  </td>\n",
        "  <td>\n",
        "    <a target=\"_blank\" href=\"https://github.com/tensorflow/docs/blob/r2.0rc/site/en/r2/tutorials/quickstart/advanced.ipynb\"><img src=\"https://www.tensorflow.org/images/GitHub-Mark-32px.png\" />View source on GitHub</a>\n",
        "  </td>\n",
        "  <td>\n",
        "    <a href=\"https://storage.googleapis.com/tensorflow_docs/docs/site/en/r2/tutorials/quickstart/advanced.ipynb\"><img src=\"https://www.tensorflow.org/images/download_logo_32px.png\" />Download notebook</a>\n",
        "  </td>\n",
        "</table>"
      ]
    },
    {
      "cell_type": "markdown",
      "metadata": {
        "colab_type": "text",
        "id": "eOsVdx6GGHmU"
      },
      "source": [
        "The 'try' block is needed for colab to use 2.0 instead of 1.4\n",
        "\n"
      ]
    },
    {
      "cell_type": "code",
      "metadata": {
        "colab_type": "code",
        "id": "ioLbtB3uGKPX",
        "colab": {}
      },
      "source": [
        "try:\n",
        "  # %tensorflow_version only exists in Colab.\n",
        "  %tensorflow_version 2.x\n",
        "except Exception:\n",
        "  pass\n",
        "\n",
        "import tensorflow as tf\n",
        "print(tf.__version__)"
      ],
      "execution_count": 0,
      "outputs": []
    },
    {
      "cell_type": "markdown",
      "metadata": {
        "id": "Qps6r4ks-Uty",
        "colab_type": "text"
      },
      "source": [
        "Work with CIFAR instead of original MNIST"
      ]
    },
    {
      "cell_type": "code",
      "metadata": {
        "colab_type": "code",
        "id": "JqFRS6K07jJs",
        "colab": {}
      },
      "source": [
        "cifar = tf.keras.datasets.cifar10\n",
        "# https://www.tensorflow.org/api_docs/python/tf/keras/datasets\n",
        "\n",
        "(x_train, y_train), (x_test, y_test) = cifar.load_data()\n",
        "x_train, x_test = x_train / 255.0, x_test / 255.0"
      ],
      "execution_count": 0,
      "outputs": []
    },
    {
      "cell_type": "markdown",
      "metadata": {
        "id": "gx7tTpfR-hud",
        "colab_type": "text"
      },
      "source": [
        "Define and train a very basic sequantial model."
      ]
    },
    {
      "cell_type": "code",
      "metadata": {
        "colab_type": "code",
        "id": "h3IKyzTCDNGo",
        "colab": {}
      },
      "source": [
        "model = tf.keras.models.Sequential([\n",
        "  tf.keras.layers.Flatten(input_shape=(32, 32, 3)),\n",
        "# comment about input shape\n",
        "  tf.keras.layers.Dense(128, activation='relu'),\n",
        "  tf.keras.layers.Dropout(0.2),\n",
        "  tf.keras.layers.Dense(10, activation='softmax')\n",
        "])\n",
        "\n",
        "model.compile(optimizer='adam',\n",
        "              loss='sparse_categorical_crossentropy',\n",
        "              metrics=['accuracy'])"
      ],
      "execution_count": 0,
      "outputs": []
    },
    {
      "cell_type": "code",
      "metadata": {
        "id": "jLxANUUZwIVk",
        "colab_type": "code",
        "colab": {}
      },
      "source": [
        "model.fit(x_train, y_train, epochs=3)\n",
        "\n",
        "model.evaluate(x_test, y_test, verbose=0)"
      ],
      "execution_count": 0,
      "outputs": []
    },
    {
      "cell_type": "markdown",
      "metadata": {
        "id": "PDzoFfOnC_E3",
        "colab_type": "text"
      },
      "source": [
        "The accuracy is only .31, which means a lot of confusion. \n",
        "\n",
        "Obtain confusion matrix:"
      ]
    },
    {
      "cell_type": "code",
      "metadata": {
        "id": "gYD5o_QtwObk",
        "colab_type": "code",
        "colab": {}
      },
      "source": [
        "# one of the Sequential model's methods return predictions directly in a form of classes https://www.tensorflow.org/api_docs/python/tf/keras/Sequential\n",
        "y_predicted = model.predict_classes(x_test)\n",
        "\n",
        "# flatten tensor using tf instruments https://stackoverflow.com/questions/34194151/best-way-to-flatten-a-2d-tensor-containing-a-vector-in-tensorflow\n",
        "y_true = tf.squeeze(y_test)\n",
        "\n",
        "cm = tf.math.confusion_matrix(y_true, y_predicted)\n",
        "\n",
        "print(cm)"
      ],
      "execution_count": 0,
      "outputs": []
    },
    {
      "cell_type": "markdown",
      "metadata": {
        "id": "Xzy5IyhxDg_q",
        "colab_type": "text"
      },
      "source": [
        "Represent confusion matrix (cm) in a more human-oriented way."
      ]
    },
    {
      "cell_type": "code",
      "metadata": {
        "id": "RfvE18Cqx-7A",
        "colab_type": "code",
        "colab": {}
      },
      "source": [
        "from sklearn.preprocessing import normalize\n",
        "import pandas as pd\n",
        "import matplotlib.pyplot as plt\n",
        "import seaborn as sns\n",
        "\n",
        "# Transform tf tensor to numpy array for plotting \n",
        "# Normalize to make fractions out of absolute occurance counts\n",
        "cm_normalized = normalize(cm.numpy(), axis=1, norm='l1') \n",
        "# The default normalization is l2, which inflates low values, so that \n",
        "# percents do not add up to 100.\n",
        "# http://mathworld.wolfram.com/L2-Norm.html\n",
        "# http://mathworld.wolfram.com/L1-Norm.html\n",
        "\n",
        "classes = ['Airplane','Car','Bird','Cat','Deer',\n",
        "           'Dog','Frog','Horse','Ship','Truck']\n",
        "\n",
        "df_cm = pd.DataFrame(cm_normalized, columns=classes, index=classes)\n",
        "df_cm.index.name = 'Actual'\n",
        "df_cm.columns.name = 'Predicted'\n",
        "plt.figure(figsize = (10,9))\n",
        "sns.set(font_scale=1.4)\n",
        "sns.heatmap(df_cm, annot=True, fmt='.0%')"
      ],
      "execution_count": 0,
      "outputs": []
    },
    {
      "cell_type": "markdown",
      "metadata": {
        "id": "O2LP3GxbB1Z0",
        "colab_type": "text"
      },
      "source": [
        "The cat is a combination of Dog, Frog, Bird and Car. \n",
        "\n",
        "Some ideas about how-to improve the model by adding convolutional layers: https://towardsdatascience.com/building-a-convolutional-neural-network-cnn-in-keras-329fbbadc5f5\n",
        "\n",
        "The TF2.0 API for convolution layers is located here: https://www.tensorflow.org/versions/r2.0/api_docs/python/tf/keras/layers/Conv2D  \n",
        "Example of how-to use them: https://www.tensorflow.org/beta/tutorials/quickstart/advanced\n"
      ]
    }
  ]
}